{
 "cells": [
  {
   "cell_type": "code",
   "execution_count": 1,
   "metadata": {
    "execution": {
     "iopub.execute_input": "2022-06-10T07:30:14.999691Z",
     "iopub.status.busy": "2022-06-10T07:30:14.998978Z",
     "iopub.status.idle": "2022-06-10T07:30:20.113717Z",
     "shell.execute_reply": "2022-06-10T07:30:20.112776Z",
     "shell.execute_reply.started": "2022-06-10T07:30:14.999611Z"
    }
   },
   "outputs": [],
   "source": [
    "import os\n",
    "import numpy as np\n",
    "import cv2\n",
    "import matplotlib.pyplot as plt\n",
    "import tensorflow as tf\n",
    "from sklearn.model_selection import train_test_split"
   ]
  },
  {
   "cell_type": "markdown",
   "metadata": {},
   "source": [
    "## Counting content of Dataset"
   ]
  },
  {
   "cell_type": "code",
   "execution_count": 3,
   "metadata": {
    "execution": {
     "iopub.execute_input": "2022-06-10T07:30:44.979926Z",
     "iopub.status.busy": "2022-06-10T07:30:44.979534Z",
     "iopub.status.idle": "2022-06-10T07:30:45.718242Z",
     "shell.execute_reply": "2022-06-10T07:30:45.717399Z",
     "shell.execute_reply.started": "2022-06-10T07:30:44.979884Z"
    }
   },
   "outputs": [],
   "source": [
    "L = 0\n",
    "for dirpath, dirnames, filenames in os.walk(\"../input/accident/ACCIDENT_DATASET\"):\n",
    "    print(f\"There are {len(dirnames)} directories and {len(filenames)} images in '{dirpath}'\")\n",
    "    L = L + len(filenames)"
   ]
  },
  {
   "cell_type": "markdown",
   "metadata": {},
   "source": [
    "## Example Image from Dataset"
   ]
  },
  {
   "cell_type": "markdown",
   "metadata": {},
   "source": [
    "## Basic Image Processing"
   ]
  },
  {
   "cell_type": "code",
   "execution_count": 4,
   "metadata": {
    "execution": {
     "iopub.execute_input": "2022-06-10T07:31:00.840411Z",
     "iopub.status.busy": "2022-06-10T07:31:00.839876Z",
     "iopub.status.idle": "2022-06-10T07:31:00.845065Z",
     "shell.execute_reply": "2022-06-10T07:31:00.844023Z",
     "shell.execute_reply.started": "2022-06-10T07:31:00.840373Z"
    }
   },
   "outputs": [],
   "source": [
    "# Grayscale\n",
    "def rgb2gray(rgb_img):\n",
    "    output_img = cv2.cvtColor(rgb_img, cv2.COLOR_BGR2GRAY)\n",
    "    return output_img"
   ]
  },
  {
   "cell_type": "code",
   "execution_count": 5,
   "metadata": {
    "execution": {
     "iopub.execute_input": "2022-06-10T07:31:02.779806Z",
     "iopub.status.busy": "2022-06-10T07:31:02.779215Z",
     "iopub.status.idle": "2022-06-10T07:31:02.783788Z",
     "shell.execute_reply": "2022-06-10T07:31:02.782740Z",
     "shell.execute_reply.started": "2022-06-10T07:31:02.779765Z"
    }
   },
   "outputs": [],
   "source": [
    "# Scale to 0 to 1\n",
    "def scale(image):\n",
    "    return image / 255"
   ]
  },
  {
   "cell_type": "code",
   "execution_count": 6,
   "metadata": {
    "execution": {
     "iopub.execute_input": "2022-06-10T07:31:04.940347Z",
     "iopub.status.busy": "2022-06-10T07:31:04.939550Z",
     "iopub.status.idle": "2022-06-10T07:31:04.944655Z",
     "shell.execute_reply": "2022-06-10T07:31:04.943880Z",
     "shell.execute_reply.started": "2022-06-10T07:31:04.940311Z"
    }
   },
   "outputs": [],
   "source": [
    "#resize\n",
    "def resize_img(image, rows=224, cols=224):\n",
    "    return cv2.resize(image, dsize=(rows, cols), interpolation=cv2.INTER_CUBIC)"
   ]
  },
  {
   "cell_type": "code",
   "execution_count": 7,
   "metadata": {
    "execution": {
     "iopub.execute_input": "2022-06-10T07:31:06.159753Z",
     "iopub.status.busy": "2022-06-10T07:31:06.159379Z",
     "iopub.status.idle": "2022-06-10T07:31:06.164823Z",
     "shell.execute_reply": "2022-06-10T07:31:06.163607Z",
     "shell.execute_reply.started": "2022-06-10T07:31:06.159723Z"
    }
   },
   "outputs": [],
   "source": [
    "# resize the shape\n",
    "def reshape(image, axis):\n",
    "    return np.expand_dims(image.mean(axis=axis), axis=1)"
   ]
  },
  {
   "cell_type": "code",
   "execution_count": 8,
   "metadata": {
    "execution": {
     "iopub.execute_input": "2022-06-10T07:31:08.319879Z",
     "iopub.status.busy": "2022-06-10T07:31:08.319532Z",
     "iopub.status.idle": "2022-06-10T07:31:08.324817Z",
     "shell.execute_reply": "2022-06-10T07:31:08.323817Z",
     "shell.execute_reply.started": "2022-06-10T07:31:08.319851Z"
    }
   },
   "outputs": [],
   "source": [
    "# Function to call other Preprocessing Functions\n",
    "def preprocessed_img(input_img):\n",
    "    output_img = rgb2gray(input_img)\n",
    "    output_img = scale(output_img)\n",
    "    output_img = resize_img(output_img)\n",
    "    output_img = reshape(output_img, 1)\n",
    "    return output_img"
   ]
  },
  {
   "cell_type": "markdown",
   "metadata": {},
   "source": [
    "## Creating matrices to store converted images and assigning class lebels"
   ]
  },
  {
   "cell_type": "code",
   "execution_count": 10,
   "metadata": {
    "execution": {
     "iopub.execute_input": "2022-06-10T07:31:21.846021Z",
     "iopub.status.busy": "2022-06-10T07:31:21.845662Z",
     "iopub.status.idle": "2022-06-10T07:31:21.851313Z",
     "shell.execute_reply": "2022-06-10T07:31:21.850220Z",
     "shell.execute_reply.started": "2022-06-10T07:31:21.845992Z"
    }
   },
   "outputs": [],
   "source": [
    "# matrix containing L vectors of shape (224, 1)\n",
    "mean_vector_matrix = np.zeros(shape=(L, 224, 1))\n",
    "# Target vector containing the classes for L images\n",
    "target_vector = np.zeros(shape=(L, 1))"
   ]
  },
  {
   "cell_type": "code",
   "execution_count": 12,
   "metadata": {
    "execution": {
     "iopub.execute_input": "2022-06-10T07:31:50.269766Z",
     "iopub.status.busy": "2022-06-10T07:31:50.269418Z",
     "iopub.status.idle": "2022-06-10T07:32:01.876873Z",
     "shell.execute_reply": "2022-06-10T07:32:01.874232Z",
     "shell.execute_reply.started": "2022-06-10T07:31:50.269738Z"
    }
   },
   "outputs": [],
   "source": [
    "n = 0\n",
    "for root, dirnames, filenames in os.walk(r\"../input/accident/ACCIDENT_DATASET/No Accident\"):\n",
    "    n_total = len(filenames)\n",
    "    for filename in filenames:\n",
    "        file_path = os.path.join(root, filename)\n",
    "        img = cv2.imread(file_path)\n",
    "        img = preprocessed_img(img)\n",
    "        mean_vector_matrix[n] = img\n",
    "        target_vector[n] = 1\n",
    "        if n % 40 == 0:\n",
    "            print(f\"File {n} {filename}\")\n",
    "        n = n + 1  "
   ]
  },
  {
   "cell_type": "code",
   "execution_count": 13,
   "metadata": {
    "execution": {
     "iopub.execute_input": "2022-06-10T07:32:36.381978Z",
     "iopub.status.busy": "2022-06-10T07:32:36.381133Z",
     "iopub.status.idle": "2022-06-10T07:32:55.020572Z",
     "shell.execute_reply": "2022-06-10T07:32:55.019565Z",
     "shell.execute_reply.started": "2022-06-10T07:32:36.381938Z"
    }
   },
   "outputs": [],
   "source": [
    "for root, dirnames, filenames in os.walk(r\"../input/accident/ACCIDENT_DATASET/Accident\"):\n",
    "    n_total = len(filenames)\n",
    "    for filename in filenames:\n",
    "        file_path = os.path.join(root, filename)\n",
    "        img = cv2.imread(file_path)\n",
    "        img = preprocessed_img(img)\n",
    "        mean_vector_matrix[n] = img\n",
    "        target_vector[n] = 0\n",
    "        if n % 40 == 0:\n",
    "            print(f\"File {n} {filename}\")\n",
    "        n = n + 1  "
   ]
  },
  {
   "cell_type": "code",
   "execution_count": 14,
   "metadata": {
    "execution": {
     "iopub.execute_input": "2022-06-10T07:32:56.964771Z",
     "iopub.status.busy": "2022-06-10T07:32:56.964405Z",
     "iopub.status.idle": "2022-06-10T07:32:56.981814Z",
     "shell.execute_reply": "2022-06-10T07:32:56.981055Z",
     "shell.execute_reply.started": "2022-06-10T07:32:56.964742Z"
    }
   },
   "outputs": [],
   "source": [
    "\n",
    "SEED = 0\n",
    "x_train, x_test, y_train, y_test = train_test_split(mean_vector_matrix, target_vector, test_size=0.2, random_state=SEED)\n",
    "tf.random.set_seed(SEED)\n",
    "np.random.seed(SEED)\n",
    "input_shape = x_train.shape\n",
    "input_shape\n"
   ]
  },
  {
   "cell_type": "markdown",
   "metadata": {},
   "source": [
    "## CNN Model creation"
   ]
  },
  {
   "cell_type": "code",
   "execution_count": 15,
   "metadata": {
    "execution": {
     "iopub.execute_input": "2022-06-10T07:32:59.620275Z",
     "iopub.status.busy": "2022-06-10T07:32:59.619887Z",
     "iopub.status.idle": "2022-06-10T07:33:03.187652Z",
     "shell.execute_reply": "2022-06-10T07:33:03.185677Z",
     "shell.execute_reply.started": "2022-06-10T07:32:59.620243Z"
    }
   },
   "outputs": [],
   "source": [
    "model = tf.keras.Sequential([\n",
    "   tf.keras.layers.Flatten(),\n",
    "   tf.keras.layers.Dense(units=200, activation='relu', input_shape = input_shape),\n",
    "   tf.keras.layers.Dense(units=200, activation='relu', input_shape = input_shape),\n",
    "   tf.keras.layers.Dense(units=2, activation='softmax')\n",
    "])"
   ]
  },
  {
   "cell_type": "code",
   "execution_count": 16,
   "metadata": {
    "execution": {
     "iopub.execute_input": "2022-06-10T07:44:41.146027Z",
     "iopub.status.busy": "2022-06-10T07:44:41.145240Z",
     "iopub.status.idle": "2022-06-10T07:44:41.168584Z",
     "shell.execute_reply": "2022-06-10T07:44:41.167804Z",
     "shell.execute_reply.started": "2022-06-10T07:44:41.145993Z"
    }
   },
   "outputs": [],
   "source": [
    "model.compile(\n",
    "  loss='sparse_categorical_crossentropy',\n",
    "  optimizer = 'sgd',\n",
    "  metrics = ['accuracy']\n",
    ")"
   ]
  },
  {
   "cell_type": "code",
   "execution_count": 23,
   "metadata": {
    "execution": {
     "iopub.execute_input": "2022-06-10T07:47:31.566352Z",
     "iopub.status.busy": "2022-06-10T07:47:31.565873Z",
     "iopub.status.idle": "2022-06-10T07:48:53.534399Z",
     "shell.execute_reply": "2022-06-10T07:48:53.533490Z",
     "shell.execute_reply.started": "2022-06-10T07:47:31.566308Z"
    }
   },
   "outputs": [],
   "source": [
    "#try training more times for better results\n",
    "history = model.fit(\n",
    "  x = x_train,\n",
    "  y = y_train,\n",
    "  epochs = 500\n",
    ")"
   ]
  },
  {
   "cell_type": "markdown",
   "metadata": {},
   "source": [
    "## Extra"
   ]
  },
  {
   "cell_type": "code",
   "execution_count": 24,
   "metadata": {
    "execution": {
     "iopub.execute_input": "2022-06-10T07:54:58.861387Z",
     "iopub.status.busy": "2022-06-10T07:54:58.860810Z",
     "iopub.status.idle": "2022-06-10T07:54:58.867108Z",
     "shell.execute_reply": "2022-06-10T07:54:58.866222Z",
     "shell.execute_reply.started": "2022-06-10T07:54:58.861350Z"
    }
   },
   "outputs": [],
   "source": [
    "model.summary()"
   ]
  },
  {
   "cell_type": "code",
   "execution_count": 25,
   "metadata": {
    "execution": {
     "iopub.execute_input": "2022-06-10T07:54:59.861245Z",
     "iopub.status.busy": "2022-06-10T07:54:59.860882Z",
     "iopub.status.idle": "2022-06-10T07:55:00.192845Z",
     "shell.execute_reply": "2022-06-10T07:55:00.191617Z",
     "shell.execute_reply.started": "2022-06-10T07:54:59.861214Z"
    }
   },
   "outputs": [],
   "source": [
    "plt.plot(history.history['accuracy'], label='accuracy')\n",
    "\n",
    "plt.xlabel('Epoch')\n",
    "plt.ylabel('Accuracy')\n",
    "plt.ylim([0.5, 1])\n",
    "plt.legend(loc='lower right')\n",
    "\n",
    "test_loss, test_acc = model.evaluate(x_test,  y_test, verbose=2)"
   ]
  },
  {
   "cell_type": "code",
   "execution_count": 26,
   "metadata": {
    "execution": {
     "iopub.execute_input": "2022-06-10T07:55:10.541707Z",
     "iopub.status.busy": "2022-06-10T07:55:10.541321Z",
     "iopub.status.idle": "2022-06-10T07:55:10.560980Z",
     "shell.execute_reply": "2022-06-10T07:55:10.560176Z",
     "shell.execute_reply.started": "2022-06-10T07:55:10.541676Z"
    }
   },
   "outputs": [],
   "source": [
    "model.save(\"./model.h5\")"
   ]
  },
  {
   "cell_type": "code",
   "execution_count": 27,
   "metadata": {
    "execution": {
     "iopub.execute_input": "2022-06-10T07:55:15.741050Z",
     "iopub.status.busy": "2022-06-10T07:55:15.740432Z",
     "iopub.status.idle": "2022-06-10T07:55:15.748458Z",
     "shell.execute_reply": "2022-06-10T07:55:15.747395Z",
     "shell.execute_reply.started": "2022-06-10T07:55:15.741015Z"
    }
   },
   "outputs": [],
   "source": [
    "from IPython.display import FileLink\n",
    "FileLink(r'./model.h5')"
   ]
  },
  {
   "cell_type": "code",
   "execution_count": null,
   "metadata": {},
   "outputs": [],
   "source": []
  }
 ],
 "metadata": {
  "kernelspec": {
   "display_name": "Python 3 (ipykernel)",
   "language": "python",
   "name": "python3"
  },
  "language_info": {
   "codemirror_mode": {
    "name": "ipython",
    "version": 3
   },
   "file_extension": ".py",
   "mimetype": "text/x-python",
   "name": "python",
   "nbconvert_exporter": "python",
   "pygments_lexer": "ipython3",
   "version": "3.8.10"
  }
 },
 "nbformat": 4,
 "nbformat_minor": 4
}
